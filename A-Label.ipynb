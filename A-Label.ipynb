{
 "cells": [
  {
   "cell_type": "markdown",
   "metadata": {},
   "source": [
    "## xgboost \n",
    "> 丢弃B，之间用A预测类别"
   ]
  },
  {
   "cell_type": "code",
   "execution_count": 1,
   "metadata": {},
   "outputs": [],
   "source": [
    "# 导入包\n",
    "import numpy as np\n",
    "import pandas as pd\n",
    "import matplotlib.pyplot as plt\n",
    "from sklearn.model_selection import train_test_split\n",
    "%matplotlib inline"
   ]
  },
  {
   "cell_type": "code",
   "execution_count": 4,
   "metadata": {},
   "outputs": [
    {
     "name": "stdout",
     "output_type": "stream",
     "text": [
      "first_round_testing_data.csv\n",
      "first_round_training_data.csv\n"
     ]
    }
   ],
   "source": [
    "# 读取数据\n",
    "!ls data/\n",
    "\n",
    "df_train = pd.read_csv(\"data\\\\first_round_training_data.csv\")\n",
    "\n",
    "# 去掉多余的特征\n",
    "df_train = df_train.drop(df_train.columns[[10,11,12,13,14,15,16,17,18,19,]], axis=1, )\n",
    "#df_train = df_train.drop(df_train.columns[[0,1,2,3,4,5,6,7,8,9,10,11,12,]], axis=1, )\n",
    "\n",
    "\n",
    "# 特征10 换位到最后一列\n",
    "df_test = pd.read_csv(\"data\\\\first_round_testing_data.csv\")\n",
    "tmp = df_test[\"Parameter10\"].copy()\n",
    "df_test.drop(\"Parameter10\",axis=1, inplace=True)\n",
    "df_test[\"Parameter10\"] = tmp\n",
    "\n",
    "\n",
    "df_train[\"Quality_label\"] = df_train[\"Quality_label\"].map({\"Excellent\":3,\"Good\":2,\"Pass\":1,\"Fail\":0}) \n",
    "df_train.head()\n",
    "\n",
    "\n",
    "\n",
    "# 划分数据集\n",
    "df_target = df_train[\"Quality_label\"]\n",
    "train = df_train.drop([\"Quality_label\"], axis=1)\n",
    "\n",
    "\n",
    "X_train,X_test, y_train, y_test = train_test_split(train,df_target,test_size=0.3, random_state=0)\n",
    "### model-4 xgboost\n",
    "import xgboost as xgb\n",
    "import random\n",
    "\n",
    "\n",
    "df_train[\"Parameter1\"] = np.log10(df_train[\"Parameter1\"])\n",
    "df_train[\"Parameter2\"] = np.log10(df_train[\"Parameter2\"])\n",
    "df_train[\"Parameter3\"] = np.log10(df_train[\"Parameter3\"])\n",
    "df_train[\"Parameter4\"] = np.log10(df_train[\"Parameter4\"])\n",
    "df_train[\"Parameter5\"] = np.log10(df_train[\"Parameter5\"])\n",
    "df_train[\"Parameter6\"] = np.log10(df_train[\"Parameter6\"])\n",
    "df_train[\"Parameter7\"] = np.log10(df_train[\"Parameter7\"])\n",
    "\n",
    "df_train[\"Parameter8\"] = np.log10(df_train[\"Parameter8\"])\n",
    "df_train[\"Parameter9\"] = np.log10(df_train[\"Parameter9\"])\n",
    "df_train[\"Parameter10\"] = np.log10(df_train[\"Parameter10\"])\n"
   ]
  },
  {
   "cell_type": "code",
   "execution_count": 222,
   "metadata": {},
   "outputs": [
    {
     "name": "stdout",
     "output_type": "stream",
     "text": [
      "Fitting 5 folds for each of 1 candidates, totalling 5 fits\n"
     ]
    },
    {
     "name": "stderr",
     "output_type": "stream",
     "text": [
      "[Parallel(n_jobs=4)]: Using backend LokyBackend with 4 concurrent workers.\n",
      "[Parallel(n_jobs=4)]: Done   5 out of   5 | elapsed:    9.2s finished\n"
     ]
    },
    {
     "name": "stdout",
     "output_type": "stream",
     "text": [
      "Fitting 5 folds for each of 1 candidates, totalling 5 fits\n"
     ]
    },
    {
     "name": "stderr",
     "output_type": "stream",
     "text": [
      "[Parallel(n_jobs=4)]: Using backend LokyBackend with 4 concurrent workers.\n",
      "[Parallel(n_jobs=4)]: Done   5 out of   5 | elapsed:    2.0s finished\n"
     ]
    },
    {
     "name": "stdout",
     "output_type": "stream",
     "text": [
      "Fitting 5 folds for each of 1 candidates, totalling 5 fits\n"
     ]
    },
    {
     "name": "stderr",
     "output_type": "stream",
     "text": [
      "[Parallel(n_jobs=4)]: Using backend LokyBackend with 4 concurrent workers.\n",
      "[Parallel(n_jobs=4)]: Done   5 out of   5 | elapsed:    1.9s finished\n"
     ]
    },
    {
     "name": "stdout",
     "output_type": "stream",
     "text": [
      "Fitting 5 folds for each of 1 candidates, totalling 5 fits\n"
     ]
    },
    {
     "name": "stderr",
     "output_type": "stream",
     "text": [
      "[Parallel(n_jobs=4)]: Using backend LokyBackend with 4 concurrent workers.\n",
      "[Parallel(n_jobs=4)]: Done   5 out of   5 | elapsed:    1.7s finished\n"
     ]
    },
    {
     "name": "stdout",
     "output_type": "stream",
     "text": [
      "Fitting 5 folds for each of 1 candidates, totalling 5 fits\n"
     ]
    },
    {
     "name": "stderr",
     "output_type": "stream",
     "text": [
      "[Parallel(n_jobs=4)]: Using backend LokyBackend with 4 concurrent workers.\n",
      "[Parallel(n_jobs=4)]: Done   5 out of   5 | elapsed:    1.9s finished\n"
     ]
    },
    {
     "name": "stdout",
     "output_type": "stream",
     "text": [
      "0.9648333333333333\n",
      "3.45\n",
      "[3.45, 3.48, 3.5, 3.51, 3.53]\n"
     ]
    }
   ],
   "source": [
    "# #  test\n",
    "        \n",
    "# score_list = []\n",
    "# ff_list = [3.45,3.48,3.5, 3.51,3.53] #range(1,8,1)\n",
    "# for fff in ff_list:\n",
    "#     df_train = pd.read_csv(\"data\\\\first_round_training_data.csv\")\n",
    "\n",
    "#     # 去掉多余的特征\n",
    "#     #df_train = df_train.drop(df_train.columns[[10,11,12,13,14,15,16,17,18,19,]], axis=1, )\n",
    "#     df_train = df_train.drop(df_train.columns[[0,1,2,3,4,5,6,7,8,9,10,11,12,]], axis=1, )\n",
    "\n",
    "\n",
    "#     # 特征10 换位到最后一列\n",
    "#     df_test = pd.read_csv(\"data\\\\first_round_testing_data.csv\")\n",
    "#     tmp = df_test[\"Parameter10\"].copy()\n",
    "#     df_test.drop(\"Parameter10\",axis=1, inplace=True)\n",
    "#     df_test[\"Parameter10\"] = tmp\n",
    "\n",
    "\n",
    "\n",
    "#     df_train[\"Quality_label\"] = df_train[\"Quality_label\"].map({\"Excellent\":3,\"Good\":2,\"Pass\":1,\"Fail\":0}) \n",
    "#     df_train.head()\n",
    "\n",
    "\n",
    "\n",
    "#     # 划分数据集\n",
    "#     df_target = df_train[\"Quality_label\"]\n",
    "#     train = df_train.drop([\"Quality_label\"], axis=1)\n",
    "\n",
    "\n",
    "#     X_train,X_test, y_train, y_test = train_test_split(train,df_target,test_size=0.3, random_state=0)\n",
    "#     ### model-4 xgboost\n",
    "#     import xgboost as xgb\n",
    "#     import random\n",
    "\n",
    "\n",
    "#     df_train[\"Attribute4\"] = np.log10(df_train[\"Attribute4\"])\n",
    "#     df_train[\"Attribute5\"] = np.log10(df_train[\"Attribute5\"])\n",
    "#     df_train[\"Attribute6\"] = np.log10(df_train[\"Attribute6\"])\n",
    "#     df_train[\"Attribute7\"] = np.log10(df_train[\"Attribute7\"])\n",
    "#     df_train[\"Attribute8\"] = np.log10(df_train[\"Attribute8\"])\n",
    "#     df_train[\"Attribute9\"] = np.log10(df_train[\"Attribute9\"])\n",
    "#     df_train[\"Attribute10\"] = np.log10(df_train[\"Attribute10\"])\n",
    "\n",
    "#     def find(row):\n",
    "#         if row < -0.784:\n",
    "#             return 1\n",
    "#         elif row < 2.01:\n",
    "#             return 2\n",
    "#         else:\n",
    "#             return 3\n",
    "#     df_train[\"Attribute5\"] = df_train[\"Attribute5\"].apply(find)\n",
    "\n",
    "#     def find(row):\n",
    "#         if row < 0.47:\n",
    "#             return 1\n",
    "#         elif row < 1.75:\n",
    "#             return 2\n",
    "#         else:\n",
    "#             return 3\n",
    "#     df_train[\"Attribute4\"] = df_train[\"Attribute4\"].apply(find)\n",
    "    \n",
    "#     def find(row):\n",
    "#         if row <-2.195:\n",
    "#             return 1\n",
    "#         elif row < 2:\n",
    "#             return 2\n",
    "#         else:\n",
    "#             return 3\n",
    "#     df_train[\"Attribute6\"] = df_train[\"Attribute6\"].apply(find)\n",
    "    \n",
    "#     def find(row):\n",
    "#         if row < 1.2:\n",
    "#             return 1\n",
    "#         elif row < 2.15:\n",
    "#             return 2\n",
    "#         else:\n",
    "#             return 3\n",
    "#     df_train[\"Attribute7\"] = df_train[\"Attribute7\"].apply(find)\n",
    "    \n",
    "#     def find(row):\n",
    "#         if row < -1.43:\n",
    "#             return 1\n",
    "#         elif row < 0.2:\n",
    "#             return 2\n",
    "#         else:\n",
    "#             return 3\n",
    "#     df_train[\"Attribute8\"] = df_train[\"Attribute8\"].apply(find)\n",
    "    \n",
    "    \n",
    "#     def find(row):\n",
    "#         if row < 1.31:\n",
    "#             return 1\n",
    "#         elif row < 2.39:\n",
    "#             return 2\n",
    "#         elif row < 3.45:\n",
    "#             return 3\n",
    "#         else:\n",
    "#             return 4\n",
    "#     df_train[\"Attribute9\"] = df_train[\"Attribute9\"].apply(find)\n",
    "    \n",
    "#     def find(row):\n",
    "#         if row < -1.40:\n",
    "#             return 1\n",
    "#         elif row < 2.28:\n",
    "#             return 2\n",
    "#         elif row < 4.3:\n",
    "#             return 3\n",
    "#         else:\n",
    "#             return 4\n",
    "#     df_train[\"Attribute10\"] = df_train[\"Attribute10\"].apply(find)\n",
    "\n",
    "\n",
    "#     # 划分数据集\n",
    "\n",
    "#     df_target = df_train[\"Quality_label\"]\n",
    "#     train = df_train.drop([\"Quality_label\"], axis=1)\n",
    "\n",
    "#     X_train,X_test, y_train, y_test = train_test_split(train,df_target,test_size=0.3, random_state=0)\n",
    "\n",
    "#     # #对数据的训练集进行标准化\n",
    "\n",
    "#     # ### model-3  随机森林  # 最好成绩 0.44\n",
    "#     # from sklearn.ensemble import RandomForestClassifier\n",
    "\n",
    "#     # score_list = []\n",
    "#     # c_list =[i for i in range(1,10,1)]\n",
    "#     # for c in c_list:\n",
    "#     #     rfc = RandomForestClassifier(\n",
    "#     #                               n_estimators=120    # 默认10，决策树的数量, 越多越好，从100开始。\n",
    "\n",
    "#     #                             , bootstrap=True   # 有放回采样\n",
    "#     #                             , oob_score=False  # out-of-bag 使用没有抽到的数据做验证\n",
    "#     #                             , n_jobs=None      #并行计算\n",
    "#     #                             , verbose=0        # 打印训练日志\n",
    "#     #                             , warm_start=False  # 热启动\n",
    "\n",
    "#     #                             #与决策树相关的参数\n",
    "#     #                             , criterion='gini'  # 或 \"entropy\" \n",
    "#     #                             , random_state=None\n",
    "#     #                             , class_weight=None\n",
    "#     #                             , max_depth=8\n",
    "#     #                             , min_samples_split=2\n",
    "#     #                             , min_samples_leaf=1\n",
    "#     #                             , min_weight_fraction_leaf=0.0\n",
    "#     #                             , max_features=None# auto=特征数的开根号，log2=log2(n_features)， None = n_features\n",
    "#     #                             , max_leaf_nodes=None\n",
    "#     #                             , min_impurity_decrease=0.0\n",
    "#     #                             , min_impurity_split=None\n",
    "#     #                             )\n",
    "\n",
    "#     #     rfc = rfc.fit(X_train, y_train)\n",
    "#     #     score = rfc.score(X_test,y_test)\n",
    "#     #     score_list.append(score)\n",
    "#     # print(max(score_list))\n",
    "#     # print(c_list[list(score_list).index(max(list(score_list)))])\n",
    "\n",
    "\n",
    "#     ### model-4 xgboost\n",
    "#     import xgboost as xgb\n",
    "#     from sklearn.model_selection import GridSearchCV\n",
    "\n",
    "\n",
    "#     cv_params = {'n_estimators':[100] }# [i for i in range(30,300,10)], }\n",
    "#     other_params = {    \n",
    "#                        # step1: 24\n",
    "#                         \"n_estimators\":100\n",
    "#                       # step2: 4, 3\n",
    "#                         , \"max_depth\":4\n",
    "#                         , \"min_child_weight\" : 3\n",
    "\n",
    "#                       # step3:\n",
    "#                         , \"subsample\" : 0.9\n",
    "#                         , \"colsample_bytree\" : 0.4\n",
    "\n",
    "\n",
    "#                         , \"learning_rate\":0.1\n",
    "\n",
    "#                         , \"verbosity\":1\n",
    "#                         , \"silent\":None\n",
    "#                         , \"objective\":'binary:logistic'\n",
    "#                         , \"booster\": \"gbtree\"\n",
    "#                         , \"n_jobs\" : 1\n",
    "#                         , \"nthread\" : None\n",
    "#                         , \"gamma\" : 0.3\n",
    "\n",
    "#                         , \"max_delta_step\" : 0\n",
    "\n",
    "#                         , \"colsample_bylevel\" : 1\n",
    "#                         , \"colsample_bynode\" : 1\n",
    "#                         , \"reg_alpha\" : 0\n",
    "#                         , \"reg_lambda\" : 1\n",
    "#                         , \"scale_pos_weight\" : 1\n",
    "#                         , \"base_score\" : 0.5\n",
    "#                         , \"random_state\" : 42\n",
    "#                         , \"seed\"  : None\n",
    "#                         , \"missing\" : None\n",
    "#                         , \"importance_type\" :'gain'\n",
    "#     }\n",
    "\n",
    "#     model = xgb.XGBClassifier(**other_params)\n",
    "#     optimized_GBM = GridSearchCV(estimator=model, param_grid=cv_params, scoring='accuracy', cv=5, verbose=1, n_jobs=4)\n",
    "#     optimized_GBM.fit(train, df_target)\n",
    "\n",
    "#     score_list.append(optimized_GBM.best_score_)\n",
    "    \n",
    "# print(max(score_list))\n",
    "# print(ff_list[score_list.index(max(score_list))])\n",
    "# print(ff_list)"
   ]
  },
  {
   "cell_type": "code",
   "execution_count": 5,
   "metadata": {},
   "outputs": [
    {
     "name": "stdout",
     "output_type": "stream",
     "text": [
      "Fitting 5 folds for each of 1 candidates, totalling 5 fits\n"
     ]
    },
    {
     "name": "stderr",
     "output_type": "stream",
     "text": [
      "[Parallel(n_jobs=4)]: Using backend LokyBackend with 4 concurrent workers.\n",
      "[Parallel(n_jobs=4)]: Done   5 out of   5 | elapsed:    6.5s finished\n"
     ]
    },
    {
     "name": "stdout",
     "output_type": "stream",
     "text": [
      "每轮迭代运行结果:[0.501]\n",
      "参数的最佳取值：{'n_estimators': 100}\n",
      "最佳模型得分:0.501\n"
     ]
    }
   ],
   "source": [
    "# 划分数据集\n",
    "\n",
    "df_target = df_train[\"Quality_label\"]\n",
    "train = df_train.drop([\"Quality_label\"], axis=1)\n",
    "\n",
    "X_train,X_test, y_train, y_test = train_test_split(train,df_target,test_size=0.3, random_state=0)\n",
    "\n",
    "### model-4 xgboost\n",
    "import xgboost as xgb\n",
    "from sklearn.model_selection import GridSearchCV\n",
    "\n",
    "\n",
    "cv_params = {'n_estimators':[100] }# [i for i in range(30,300,10)], }\n",
    "other_params = {    \n",
    "                   # step1: 24\n",
    "                    \"n_estimators\":100\n",
    "                  # step2: 4, 3\n",
    "                    , \"max_depth\":4\n",
    "                    , \"min_child_weight\" : 3\n",
    "    \n",
    "                  # step3:\n",
    "                    , \"subsample\" : 0.9\n",
    "                    , \"colsample_bytree\" : 0.4\n",
    "    \n",
    "                \n",
    "                    , \"learning_rate\":0.1\n",
    "                \n",
    "                    , \"verbosity\":1\n",
    "                    , \"silent\":None\n",
    "                    , \"objective\":'binary:logistic'\n",
    "                    , \"booster\": \"gbtree\"\n",
    "                    , \"n_jobs\" : 1\n",
    "                    , \"nthread\" : None\n",
    "                    , \"gamma\" : 0.3\n",
    "                  \n",
    "                    , \"max_delta_step\" : 0\n",
    "\n",
    "                    , \"colsample_bylevel\" : 1\n",
    "                    , \"colsample_bynode\" : 1\n",
    "                    , \"reg_alpha\" : 0\n",
    "                    , \"reg_lambda\" : 1\n",
    "                    , \"scale_pos_weight\" : 1\n",
    "                    , \"base_score\" : 0.5\n",
    "                    , \"random_state\" : 42\n",
    "                    , \"seed\"  : None\n",
    "                    , \"missing\" : None\n",
    "                    , \"importance_type\" :'gain'\n",
    "}\n",
    "\n",
    "model = xgb.XGBClassifier(**other_params)\n",
    "optimized_GBM = GridSearchCV(estimator=model, param_grid=cv_params, scoring='accuracy', cv=5, verbose=1, n_jobs=4)\n",
    "optimized_GBM.fit(train, df_target)\n",
    "\n",
    "evalute_result = optimized_GBM.cv_results_['mean_test_score']\n",
    "print('每轮迭代运行结果:{0}'.format(evalute_result))\n",
    "print('参数的最佳取值：{0}'.format(optimized_GBM.best_params_))\n",
    "print('最佳模型得分:{0}'.format(optimized_GBM.best_score_))\n"
   ]
  },
  {
   "cell_type": "code",
   "execution_count": 7,
   "metadata": {},
   "outputs": [],
   "source": [
    "# 带入最佳参数\n",
    "\n",
    "model = xgb.XGBClassifier(\n",
    "                              learning_rate=0.1\n",
    "                            , n_estimators=100\n",
    "                            , max_depth=4\n",
    "                            , min_child_weight=3\n",
    "                            , seed=0\n",
    "                            , subsample=0.9\n",
    "                            , colsample_bytree=0.4\n",
    "                            \n",
    "                            , reg_alpha=0\n",
    "                            , reg_lambda=1\n",
    "                            , objective = \"binary:logistic\"\n",
    "                            , gamma = 0.3\n",
    "                            , random_state  = 42\n",
    "                           )\n",
    "model = model.fit(train, df_target)\n"
   ]
  },
  {
   "cell_type": "code",
   "execution_count": 8,
   "metadata": {},
   "outputs": [
    {
     "data": {
      "text/plain": [
       "<matplotlib.axes._subplots.AxesSubplot at 0x236c9c06c88>"
      ]
     },
     "execution_count": 8,
     "metadata": {},
     "output_type": "execute_result"
    },
    {
     "data": {
      "image/png": "[encoded data removed]",
      "text/plain": [
       "<Figure size 432x288 with 1 Axes>"
      ]
     },
     "metadata": {
      "needs_background": "light"
     },
     "output_type": "display_data"
    }
   ],
   "source": [
    "xgb.plot_importance(model)"
   ]
  },
  {
   "cell_type": "code",
   "execution_count": null,
   "metadata": {},
   "outputs": [],
   "source": []
  },
  {
   "cell_type": "code",
   "execution_count": 11,
   "metadata": {},
   "outputs": [],
   "source": [
    "# 测试集\n",
    "testRes = model.predict(df_test.iloc[:,1:])\n",
    "\n",
    "testpredict = model.predict_proba(df_test.iloc[:,1:])\n"
   ]
  },
  {
   "cell_type": "code",
   "execution_count": 12,
   "metadata": {},
   "outputs": [
    {
     "data": {
      "text/html": [
       "<div>\n",
       "<style scoped>\n",
       "    .dataframe tbody tr th:only-of-type {\n",
       "        vertical-align: middle;\n",
       "    }\n",
       "\n",
       "    .dataframe tbody tr th {\n",
       "        vertical-align: top;\n",
       "    }\n",
       "\n",
       "    .dataframe thead th {\n",
       "        text-align: right;\n",
       "    }\n",
       "</style>\n",
       "<table border=\"1\" class=\"dataframe\">\n",
       "  <thead>\n",
       "    <tr style=\"text-align: right;\">\n",
       "      <th></th>\n",
       "      <th>Excellent ratio</th>\n",
       "      <th>Good ratio</th>\n",
       "      <th>Pass ratio</th>\n",
       "      <th>Fail ratio</th>\n",
       "    </tr>\n",
       "    <tr>\n",
       "      <th>Group</th>\n",
       "      <th></th>\n",
       "      <th></th>\n",
       "      <th></th>\n",
       "      <th></th>\n",
       "    </tr>\n",
       "  </thead>\n",
       "  <tbody>\n",
       "    <tr>\n",
       "      <th>0</th>\n",
       "      <td>0.147778</td>\n",
       "      <td>0.418331</td>\n",
       "      <td>0.262199</td>\n",
       "      <td>0.171693</td>\n",
       "    </tr>\n",
       "    <tr>\n",
       "      <th>1</th>\n",
       "      <td>0.137078</td>\n",
       "      <td>0.398040</td>\n",
       "      <td>0.308658</td>\n",
       "      <td>0.156224</td>\n",
       "    </tr>\n",
       "    <tr>\n",
       "      <th>2</th>\n",
       "      <td>0.114048</td>\n",
       "      <td>0.434092</td>\n",
       "      <td>0.288658</td>\n",
       "      <td>0.163201</td>\n",
       "    </tr>\n",
       "    <tr>\n",
       "      <th>3</th>\n",
       "      <td>0.131699</td>\n",
       "      <td>0.438444</td>\n",
       "      <td>0.272119</td>\n",
       "      <td>0.157738</td>\n",
       "    </tr>\n",
       "    <tr>\n",
       "      <th>4</th>\n",
       "      <td>0.140649</td>\n",
       "      <td>0.422317</td>\n",
       "      <td>0.266880</td>\n",
       "      <td>0.170155</td>\n",
       "    </tr>\n",
       "  </tbody>\n",
       "</table>\n",
       "</div>"
      ],
      "text/plain": [
       "       Excellent ratio  Good ratio  Pass ratio  Fail ratio\n",
       "Group                                                     \n",
       "0             0.147778    0.418331    0.262199    0.171693\n",
       "1             0.137078    0.398040    0.308658    0.156224\n",
       "2             0.114048    0.434092    0.288658    0.163201\n",
       "3             0.131699    0.438444    0.272119    0.157738\n",
       "4             0.140649    0.422317    0.266880    0.170155"
      ]
     },
     "execution_count": 12,
     "metadata": {},
     "output_type": "execute_result"
    }
   ],
   "source": [
    "y_pred = pd.DataFrame(\n",
    "    testpredict, columns=[\"Excellent ratio\", \"Good ratio\", \"Pass ratio\", \"Fail ratio\"]\n",
    ")\n",
    "y_pred[\"Group\"] = df_test[\"Group\"]\n",
    "\n",
    "group_pred = y_pred.groupby(\"Group\").mean()\n",
    "for c in [\"Excellent ratio\", \"Good ratio\", \"Pass ratio\", \"Fail ratio\"]:\n",
    "    group_pred[c] /= group_pred.sum(axis=1)\n",
    "    \n",
    "\n",
    "group_pred.to_csv('./result1.csv', index=True, header=True)\n",
    "group_pred.head()"
   ]
  },
  {
   "cell_type": "code",
   "execution_count": 13,
   "metadata": {},
   "outputs": [],
   "source": [
    "\n",
    "# 类别结果加到原始的测试集\n",
    "df_test = pd.concat([df_test, pd.DataFrame(data=testRes)], axis=1,)\n",
    "submit_csv = pd.read_csv(\"submit_example.csv\")\n",
    "submit_csv.head()\n",
    "# 分组计算 概率\n",
    "g = df_test.groupby(\"Group\")\n",
    "group_list = df_test.Group.unique()\n",
    "\n",
    "for i in group_list:\n",
    "    tmp = g.get_group(i)\n",
    "    Excellent = len(tmp[tmp[0]==3])/50.0\n",
    "    Good = len(tmp[tmp[0]==2])/50.0\n",
    "    Pass = len(tmp[tmp[0]==1])/50.0\n",
    "    Fail = len(tmp[tmp[0]==0])/50.0\n",
    "    submit_csv[submit_csv[\"Group\"]==i] = [i, Excellent, Good, Pass, Fail]\n",
    "\n",
    "submit_csv.to_csv('./result.csv', index=False, header=True)"
   ]
  }
 ],
 "metadata": {
  "kernelspec": {
   "display_name": "Python 3",
   "language": "python",
   "name": "python3"
  },
  "language_info": {
   "codemirror_mode": {
    "name": "ipython",
    "version": 3
   },
   "file_extension": ".py",
   "mimetype": "text/x-python",
   "name": "python",
   "nbconvert_exporter": "python",
   "pygments_lexer": "ipython3",
   "version": "3.7.3"
  }
 },
 "nbformat": 4,
 "nbformat_minor": 2
}
