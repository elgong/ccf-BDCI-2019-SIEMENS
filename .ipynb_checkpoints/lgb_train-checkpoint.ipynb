{
 "cells": [
  {
   "cell_type": "code",
   "execution_count": 2,
   "metadata": {},
   "outputs": [],
   "source": [
    "import pandas as pd\n",
    "import numpy as np\n",
    "import matplotlib.pyplot as plt\n",
    "import seaborn as sns\n",
    "import os\n",
    "import warnings\n",
    "import time\n",
    "import datetime\n",
    "from sklearn.model_selection import StratifiedKFold\n",
    "from sklearn.metrics import f1_score, confusion_matrix\n",
    "import lightgbm as lgb\n",
    "from math import radians, cos, sin, asin, sqrt\n",
    "from tqdm import tqdm, tqdm_notebook\n",
    "import pickle\n",
    "from sklearn.decomposition import TruncatedSVD\n",
    "from sklearn.feature_extraction.text import TfidfVectorizer, CountVectorizer\n",
    "import math\n",
    "from itertools import combinations\n",
    "from sklearn.preprocessing import LabelEncoder\n",
    "from gensim.models import Word2Vec\n",
    "import json\n",
    "import gc\n",
    "import re\n",
    "warnings.filterwarnings('ignore')"
   ]
  },
  {
   "cell_type": "code",
   "execution_count": 3,
   "metadata": {},
   "outputs": [],
   "source": [
    "import os\n",
    "os.chdir('/cos_person/ChinaCom/CCF/WorkPiece/data')\n",
    "train = pd.read_csv('../data/first_round_training_data.csv')\n",
    "test = pd.read_csv('../data/first_round_testing_data.csv')"
   ]
  },
  {
   "cell_type": "code",
   "execution_count": 4,
   "metadata": {},
   "outputs": [
    {
     "data": {
      "text/plain": [
       "(6000, 6000)"
      ]
     },
     "execution_count": 4,
     "metadata": {},
     "output_type": "execute_result"
    }
   ],
   "source": [
    "len(train),len(test)"
   ]
  },
  {
   "cell_type": "code",
   "execution_count": 7,
   "metadata": {},
   "outputs": [],
   "source": [
    "features = [c for c in test.columns if c!='Group']\n",
    "cat_feats = ['Attribute4',\n",
    "'Attribute5',\n",
    "'Attribute6',\n",
    "'Attribute7',\n",
    "'Attribute8',\n",
    "'Attribute9',\n",
    "'Attribute10',\n",
    "'Parameter5',\n",
    "'Parameter6',\n",
    "'Parameter7',\n",
    "'Parameter8',\n",
    "'Parameter9',\n",
    "'Parameter10']\n",
    "\n",
    "use_cate = [c for c in cat_feats if 'Para' in c]\n",
    "col_only_train = [c for c in test.columns if c != 'Group']\n",
    "all_feat = [c for c in train.columns if c != 'Quality_label']\n",
    "data = pd.concat([train,test])\n",
    "\n",
    "def nnq_encode(data,en_col,use_col):\n",
    "    data[en_col + '_nnq_of_' + use_col] = data[en_col].map( data.groupby([en_col])[use_col].nunique() )\n",
    "    features.append( en_col + '_nnq_of_' + use_col )\n",
    "    return data\n",
    "\n",
    "for en_col in use_cate:\n",
    "    for use_col in cat_feats:\n",
    "        if en_col != use_col:\n",
    "            data = nnq_encode(data,en_col,use_col)\n",
    "for en_col in use_cate:\n",
    "    for use_col in use_cate:\n",
    "        if en_col != use_col:\n",
    "            colname =  en_col +'_count_' + use_col\n",
    "            features.append( colname)\n",
    "            data[ colname] = data[en_col].astype(str) + \"|\" + data[use_col].astype(str)\n",
    "            data[ colname] = data.groupby([ colname ])[colname].transform('count')\n",
    "for en_col in use_cate:\n",
    "    for use_col in all_feat:\n",
    "        if en_col != use_col:\n",
    "            colname =  en_col +'_mean_' + use_col\n",
    "            features.append( colname)\n",
    "            data[ colname] = data[en_col].map( data.groupby([en_col])[use_col].mean() )\n",
    "            colname =  en_col +'_std_' + use_col\n",
    "            features.append( colname)\n",
    "            data[ colname] = data[en_col].map( data.groupby([en_col])[use_col].std() )\n"
   ]
  },
  {
   "cell_type": "code",
   "execution_count": 8,
   "metadata": {},
   "outputs": [],
   "source": [
    "classMap = {'Excellent':0,\n",
    "'Good':1,\n",
    "'Pass':2,\n",
    "'Fail':3,}\n",
    "tr_index = ~data.Quality_label.isnull()\n",
    "train_df = data[tr_index][features +['Quality_label']].reset_index(drop=True)\n",
    "train_df['Quality_label'] = train_df['Quality_label'].map(classMap)\n",
    "\n",
    "test_df = data[~tr_index].reset_index(drop=True)\n",
    "id_test = test_df.Group.values\n",
    "\n",
    "\n",
    "X_train = train_df[features]    \n",
    "y = train_df.Quality_label\n",
    "X_test = test_df[features]\n",
    "del train,test\n",
    "del train_df,test_df"
   ]
  },
  {
   "cell_type": "code",
   "execution_count": 11,
   "metadata": {},
   "outputs": [],
   "source": [
    "# train_df"
   ]
  },
  {
   "cell_type": "code",
   "execution_count": null,
   "metadata": {},
   "outputs": [
    {
     "name": "stdout",
     "output_type": "stream",
     "text": [
      "Training until validation scores don't improve for 100 rounds.\n",
      "[50]\ttrain's multi_logloss: 0.884214\ttrain's f1_weighted: 0.687493\tvalid's multi_logloss: 1.09958\tvalid's f1_weighted: 0.51745\n",
      "[100]\ttrain's multi_logloss: 0.723673\ttrain's f1_weighted: 0.76786\tvalid's multi_logloss: 1.09925\tvalid's f1_weighted: 0.512451\n",
      "[150]\ttrain's multi_logloss: 0.608637\ttrain's f1_weighted: 0.838183\tvalid's multi_logloss: 1.11755\tvalid's f1_weighted: 0.505265\n",
      "Early stopping, best iteration is:\n",
      "[51]\ttrain's multi_logloss: 0.880174\ttrain's f1_weighted: 0.687505\tvalid's multi_logloss: 1.09908\tvalid's f1_weighted: 0.518638\n",
      "Training until validation scores don't improve for 100 rounds.\n",
      "[50]\ttrain's multi_logloss: 0.886561\ttrain's f1_weighted: 0.694015\tvalid's multi_logloss: 1.10078\tvalid's f1_weighted: 0.510211\n",
      "[100]\ttrain's multi_logloss: 0.725004\ttrain's f1_weighted: 0.770889\tvalid's multi_logloss: 1.10016\tvalid's f1_weighted: 0.511115\n"
     ]
    }
   ],
   "source": [
    "lgb_paras = {\n",
    "        'objective': 'multiclass',\n",
    "        'metric': 'multi_logloss',\n",
    "        'learning_rate': 0.05,\n",
    "        'num_leaves': 32,\n",
    "        # 'lambda_l1': 0.01,\n",
    "        # 'lambda_l2': 10,\n",
    "        'num_class': 4,\n",
    "        'max_depth': -1,\n",
    "        'seed': 42,\n",
    "        'feature_fraction': 0.8,\n",
    "        #         'bagging_fraction': 0.8,\n",
    "        #         'bagging_freq': 4,\n",
    "        'verbose': 1\n",
    "    }\n",
    "from sklearn.metrics import f1_score, confusion_matrix\n",
    "all_preads = []\n",
    "skf = StratifiedKFold(n_splits=5, random_state=2029, shuffle=True)\n",
    "def f1_weighted(preds, train_data):\n",
    "    y_true = train_data.label\n",
    "    preds = np.argmax(preds.reshape(4, -1), axis=0)\n",
    "    score = f1_score(y_true, preds, average='weighted')\n",
    "    return 'f1_weighted', score, True\n",
    "evals_result = {}\n",
    "for index, (train_index, test_index) in enumerate(skf.split(X_train, y)):\n",
    "    train_x, test_x, train_y, test_y = X_train[features].iloc[train_index], X_train[features].iloc[test_index], y.iloc[train_index], y.iloc[test_index]\n",
    "    dtrain = lgb.Dataset(train_x, train_y)\n",
    "\n",
    "    dvalid = lgb.Dataset(test_x, test_y)\n",
    "#     clf = lgb.train(\n",
    "#         params=lgb_paras,\n",
    "#         train_set=dtrain,\n",
    "#         num_boost_round=10000,\n",
    "#         valid_sets=[dtrain, dvalid],\n",
    "#         evals_result=evals_result,\n",
    "#         early_stopping_rounds=100,\n",
    "#         valid_names=[\"train\", \"valid\"],\n",
    "#         # categorical_feature=cate_cols,\n",
    "#         verbose_eval=100)\n",
    "    \n",
    "    lgb_modelall = lgb.train(lgb_paras, dtrain,\n",
    "                             valid_sets=[dtrain, dvalid],\n",
    "                             num_boost_round=1000,\n",
    "                             early_stopping_rounds=100,\n",
    "                             valid_names=[\"train\", \"valid\"],\n",
    "                             evals_result=evals_result,\n",
    "                             verbose_eval=50,\n",
    "                             feval=f1_weighted)\n",
    "    pred = lgb_modelall.predict(X_test)\n",
    "    all_preads.append( pred )\n",
    "\n",
    "\n",
    "    "
   ]
  },
  {
   "cell_type": "code",
   "execution_count": 26,
   "metadata": {},
   "outputs": [],
   "source": [
    "mean_pread = np.mean(all_preads,axis=0)\n",
    "cols = ['Excellent ratio','Good ratio','Pass ratio','Fail ratio']\n",
    "\n",
    "sub_prob  = pd.DataFrame(mean_pread,columns=cols)\n",
    "len(sub_prob),len(id_test)\n",
    "sub_prob['Group'] = id_test\n",
    "\n",
    "sub_prob['Group'] = sub_prob['Group'].map(int)\n",
    "sub_prob = sub_prob.groupby([ 'Group'])[cols].median().reset_index()\n",
    "\n",
    "sub_prob.to_csv('../submission/lgb_fisrt.csv',index=False)"
   ]
  },
  {
   "cell_type": "code",
   "execution_count": 25,
   "metadata": {},
   "outputs": [
    {
     "data": {
      "text/plain": [
       "array([0.19381562, 0.16818632, 0.20587343, 0.43212463])"
      ]
     },
     "execution_count": 25,
     "metadata": {},
     "output_type": "execute_result"
    }
   ],
   "source": [
    "all_preads[0][0]"
   ]
  }
 ],
 "metadata": {
  "kernelspec": {
   "display_name": "Python 3",
   "language": "python",
   "name": "python3"
  },
  "language_info": {
   "codemirror_mode": {
    "name": "ipython",
    "version": 3
   },
   "file_extension": ".py",
   "mimetype": "text/x-python",
   "name": "python",
   "nbconvert_exporter": "python",
   "pygments_lexer": "ipython3",
   "version": "3.7.3"
  }
 },
 "nbformat": 4,
 "nbformat_minor": 2
}
